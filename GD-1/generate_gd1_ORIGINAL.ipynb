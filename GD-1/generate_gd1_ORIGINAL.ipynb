{
 "cells": [
  {
   "cell_type": "markdown",
   "id": "10b4d75e-404d-4276-9a3b-4bc2acc38b12",
   "metadata": {},
   "source": [
    "# Particle spray algorithm by Chen et al. (2024) via `gala`\n",
    "\n",
    "Author: Yingtian \"Bill\" Chen\n",
    "\n",
    "We provide a notebook to generate streams using the Chen+24 ([arXiv:2408.01496](https://arxiv.org/abs/2408.01496)) model via `gala`. This implementation has been merged to the main branch of `gala` since version `v1.9`."
   ]
  },
  {
   "cell_type": "code",
   "execution_count": 1,
   "id": "1f511302-e751-4b19-b6da-ca475754324d",
   "metadata": {},
   "outputs": [],
   "source": [
    "import numpy as np\n",
    "import matplotlib as mpl\n",
    "import matplotlib.pyplot as plt\n",
    "from matplotlib.animation import FuncAnimation\n",
    "import astropy.units as u\n",
    "\n",
    "import gala.potential as gp\n",
    "import gala.dynamics as gd\n",
    "from gala.dynamics import mockstream as ms\n",
    "from gala.dynamics.nbody import DirectNBody\n",
    "from gala.units import galactic, UnitSystem"
   ]
  },
  {
   "cell_type": "markdown",
   "id": "c5c3f478-ee46-438d-9b17-6e3f35c474af",
   "metadata": {},
   "source": [
    "### Set up galactic potential and initial conditions of the progenitor and the perturber (DM subhalo)\n",
    "\n",
    "Here, we use the `MWPotential2014` potential by Bovy (2015)."
   ]
  },
  {
   "cell_type": "code",
   "execution_count": 2,
   "id": "bf952fe2-cb3f-4bc1-ba85-486ea975158c",
   "metadata": {},
   "outputs": [],
   "source": [
    "pot = gp.BovyMWPotential2014(units=galactic)\n",
    "H = gp.Hamiltonian(pot)\n",
    "\n",
    "#Define progenitor information\n",
    "prog_w0 = gd.PhaseSpacePosition(pos=[40, 0, 0] * u.kpc,\n",
    "                                vel=[0, 100, 0] * u.km/u.s)\n",
    "prog_mass = 1e5 * u.Msun\n",
    "\n",
    "\n",
    "#Define DM subhalo information\n",
    "perturber_w0 = gd.PhaseSpacePosition(pos=[41, 0, 0] * u.kpc, \n",
    "                                     vel=[-10, 100, 0] * u.km/u.s)\n",
    "perturber_mass = 1e6 * u.Msun\n",
    "\n",
    "#Define the combined initial conditions\n",
    "w0_combined = gd.combine((prog_w0, perturber_w0))"
   ]
  },
  {
   "cell_type": "markdown",
   "id": "5ec9450d-4ad5-4097-8769-86e5fc81482d",
   "metadata": {},
   "source": [
    "### Generate streams!\n",
    "\n",
    "Here is the case of backward integration, which is more commonly used for stream modeling. But you can do forward integration by simply fliping the sign of `dt`."
   ]
  },
  {
   "cell_type": "markdown",
   "id": "9ec702b1-10ce-4482-b2c3-66eb9a18adbc",
   "metadata": {},
   "source": [
    "Specifics on run() : [https://gala.adrian.pw/en/latest/api/gala.dynamics.mockstream.MockStreamGenerator.html#gala.dynamics.mockstream.MockStreamGenerator.run ] \n",
    "\n",
    "Specifics on nbody : \n",
    "[https://gala.adrian.pw/en/latest/dynamics/nbody.html ]"
   ]
  },
  {
   "cell_type": "code",
   "execution_count": 3,
   "id": "f9d8e49f-e33d-43e6-b793-e33929265b6d",
   "metadata": {},
   "outputs": [],
   "source": [
    "#Potentials \n",
    "prog_pot = gp.PlummerPotential(m=prog_mass, b=4*u.pc, units=galactic) #progenitor\n",
    "perturber_pot = gp.PlummerPotential(m=perturber_mass, b=4*u.pc, units=galactic) #DM\n",
    "tot_pot = [prog_pot, perturber_pot]"
   ]
  },
  {
   "cell_type": "code",
   "execution_count": 4,
   "id": "a2f4404c-da86-4968-a04a-2cf23eb076de",
   "metadata": {},
   "outputs": [],
   "source": [
    "#nbody = DirectNBody(w0_combined, tot_pot, external_potential=pot)\n",
    "# orbits = nbody.integrate_orbit(dt=1e-2*u.Myr, t1=0, t2=1*u.Gyr)\n",
    "\n",
    "perturber = gd.DirectNBody(perturber_w0, [perturber_pot], external_potential=pot)\n"
   ]
  },
  {
   "cell_type": "code",
   "execution_count": 5,
   "id": "e1e2b6dd-14bf-4f21-b3f8-ef09826e69ff",
   "metadata": {},
   "outputs": [],
   "source": [
    "df = ms.ChenStreamDF()\n",
    "gen = ms.MockStreamGenerator(df, H, progenitor_potential=prog_pot) #there's no more arguments here\n",
    "\n",
    "#nbody=nbody of DM because this is how many other objects can affect the stream\n",
    "\n",
    "stream, prog = gen.run(prog_w0=prog_w0, prog_mass=prog_mass, nbody=perturber, release_every=1, n_particles=1, \n",
    "                                 output_every=True, output_filename='snapshots', check_filesize=True, overwrite=True, \n",
    "                                 progress=False, dt=-6*u.Myr, n_steps=500)#[source]\n",
    "\n"
   ]
  },
  {
   "cell_type": "code",
   "execution_count": 6,
   "id": "3019ed49-e328-466a-a6e1-0b3385429ad5",
   "metadata": {},
   "outputs": [
    {
     "data": {
      "image/png": "[encoded data removed]",
      "text/plain": [
       "<Figure size 640x480 with 1 Axes>"
      ]
     },
     "metadata": {},
     "output_type": "display_data"
    }
   ],
   "source": [
    "plt.scatter(prog.pos.x.value, prog.pos.y.value, color='purple', s=10, alpha=1, label = 'Progenitor')\n",
    "plt.scatter(stream.pos.x.value, stream.pos.y.value, s=1, alpha=0.5) #, label='With perturber')\n",
    "\n",
    "plt.xlabel(r'$x\\ ({\\rm kpc})$')\n",
    "plt.ylabel(r'$y\\ ({\\rm kpc})$')\n",
    "# plt.xlim(25, 50)\n",
    "# plt.ylim(-15, 15)\n",
    "plt.legend(loc='lower left')\n",
    "plt.gca().set_aspect(1)\n",
    "plt.show()"
   ]
  },
  {
   "cell_type": "markdown",
   "id": "915cdf66-f9b6-4d33-92d3-19e733d0095f",
   "metadata": {},
   "source": [
    "### Generate the movie!"
   ]
  },
  {
   "cell_type": "code",
   "execution_count": 7,
   "id": "6f356aac-6883-4719-9d1f-41f8ebcc78a2",
   "metadata": {},
   "outputs": [
    {
     "data": {
      "text/plain": [
       "<HDF5 file \"snapshots\" (mode r+)>"
      ]
     },
     "execution_count": 7,
     "metadata": {},
     "output_type": "execute_result"
    }
   ],
   "source": [
    "import h5py    \n",
    "\n",
    "f1 = h5py.File('snapshots','r+')    \n",
    "f1"
   ]
  },
  {
   "cell_type": "code",
   "execution_count": 8,
   "id": "915c28a8-d638-44e1-916c-d95cb2d07c07",
   "metadata": {},
   "outputs": [
    {
     "name": "stdout",
     "output_type": "stream",
     "text": [
      "nbody: <HDF5 group \"/nbody\" (3 members)>\n",
      "nbody/pos: <HDF5 dataset \"pos\": shape (3, 501, 2), type \"<f8\">\n",
      "nbody/time: <HDF5 dataset \"time\": shape (501,), type \"<f8\">\n",
      "nbody/vel: <HDF5 dataset \"vel\": shape (3, 501, 2), type \"<f8\">\n",
      "stream: <HDF5 group \"/stream\" (3 members)>\n",
      "stream/pos: <HDF5 dataset \"pos\": shape (3, 501, 1002), type \"<f8\">\n",
      "stream/time: <HDF5 dataset \"time\": shape (501,), type \"<f8\">\n",
      "stream/vel: <HDF5 dataset \"vel\": shape (3, 501, 1002), type \"<f8\">\n"
     ]
    }
   ],
   "source": [
    "import h5py\n",
    "\n",
    "# Open the HDF5 file\n",
    "with h5py.File('snapshots', 'r') as f:\n",
    "    # Print all groups and datasets within the file\n",
    "    def print_attrs(name, obj):\n",
    "        print(f\"{name}: {obj}\")\n",
    "\n",
    "    f.visititems(print_attrs)\n"
   ]
  },
  {
   "cell_type": "code",
   "execution_count": 9,
   "id": "75c45b0d-118a-4c1d-af35-6cc0726d309f",
   "metadata": {},
   "outputs": [],
   "source": [
    "# Set the path to the ffmpeg binary\n",
    "mpl.rcParams['animation.ffmpeg_path'] = '/opt/homebrew/bin/ffmpeg'  # Adjust if ffmpeg is elsewhere\n"
   ]
  },
  {
   "cell_type": "code",
   "execution_count": 10,
   "id": "237d90d2-626a-45f6-93f7-9b0a488c033c",
   "metadata": {},
   "outputs": [
    {
     "data": {
      "image/png": "[encoded data removed]",
      "text/plain": [
       "<Figure size 640x480 with 1 Axes>"
      ]
     },
     "metadata": {},
     "output_type": "display_data"
    }
   ],
   "source": [
    "# Load the HDF5 file\n",
    "with h5py.File('snapshots', 'r') as f:\n",
    "    # Load the position and time data for the progenitor and stream\n",
    "    prog_pos = f['nbody/pos'][:]  # Progenitor positions, shape (3, 501, 2)\n",
    "    stream_pos = f['stream/pos'][:]  # Stream positions, shape (3, 501, 1002)\n",
    "    time_data = f['nbody/time'][:]  # Time steps, shape (501,)\n",
    "\n",
    "# Create a figure for the animation\n",
    "fig, ax = plt.subplots()\n",
    "\n",
    "# Initialize scatter plots for progenitor and stream\n",
    "prog_scatter = ax.scatter([], [], color='purple', s=10, alpha=1, label='Progenitor')\n",
    "stream_scatter = ax.scatter([], [], s=1, alpha=0.5, label='Stream')\n",
    "\n",
    "# Set plot labels and aspect ratio\n",
    "ax.set_xlabel(r'$x\\ ({\\rm kpc})$')\n",
    "ax.set_ylabel(r'$y\\ ({\\rm kpc})$')\n",
    "ax.set_aspect(1)\n",
    "ax.legend(loc='lower left')\n",
    "\n",
    "# Set the limits for the x and y axes\n",
    "ax.set_xlim(-50, 50)\n",
    "ax.set_ylim(-50, 50)\n",
    "\n",
    "# Update function for each frame in the animation\n",
    "def update(frame):\n",
    "    # Clear previous scatter points\n",
    "    prog_scatter.set_offsets(prog_pos[:2, frame, :].T)\n",
    "    stream_scatter.set_offsets(stream_pos[:2, frame, :].T)\n",
    "\n",
    "    ax.set_title(f\"Time: {time_data[frame]:.2f} Myr\")\n",
    "\n",
    "# Create the animation\n",
    "ani = FuncAnimation(fig, update, frames=len(time_data), interval=50)\n",
    "\n",
    "# Save the animation as a video file\n",
    "ani.save('stream_simulation.mp4', writer='ffmpeg')\n",
    "\n",
    "# Show the plot\n",
    "plt.show()"
   ]
  },
  {
   "cell_type": "code",
   "execution_count": 11,
   "id": "7de26c59-db2f-4b25-8aca-092919908fea",
   "metadata": {},
   "outputs": [],
   "source": [
    "# import matplotlib as mpl\n",
    "# print(mpl.rcParams['animation.ffmpeg_path'])\n"
   ]
  },
  {
   "cell_type": "code",
   "execution_count": 12,
   "id": "ec9eb430-3b28-4890-8dbe-2231311d7953",
   "metadata": {},
   "outputs": [],
   "source": [
    "\n",
    "# # Set the path to the ffmpeg binary\n",
    "# mpl.rcParams['animation.ffmpeg_path'] = '/opt/homebrew/bin/ffmpeg'  # Adjust if ffmpeg is elsewhere\n",
    "\n",
    "# print(mpl.rcParams['animation.ffmpeg_path'])\n",
    "\n",
    "# # /opt/homebrew/bin/ffmpeg"
   ]
  },
  {
   "cell_type": "code",
   "execution_count": null,
   "id": "b72e1ccf-4a43-497d-81fa-cd613a4081b3",
   "metadata": {},
   "outputs": [],
   "source": []
  },
  {
   "cell_type": "markdown",
   "id": "72f755b6-bc3f-4591-90a1-6511c1513ae1",
   "metadata": {},
   "source": [
    "#\n",
    "#\n",
    "#\n",
    "#\n",
    "#\n",
    "#\n",
    "#\n",
    "#"
   ]
  },
  {
   "cell_type": "markdown",
   "id": "5e5d51da-540a-4359-9a95-dd796461ae40",
   "metadata": {},
   "source": [
    "## If you have agama installed, the following compares the action space distribution"
   ]
  },
  {
   "cell_type": "code",
   "execution_count": null,
   "id": "5e6a11db-a7e3-4f1a-b5d6-173ac32986bf",
   "metadata": {},
   "outputs": [],
   "source": []
  },
  {
   "cell_type": "markdown",
   "id": "2e6d7353-a3cb-4507-96d2-7f085a0115c8",
   "metadata": {},
   "source": [
    "import agama # to calculate action\n",
    "agama.setUnits(length=1, velocity=1, mass=1) # working units: 1 Msun, 1 kpc, 1 km/s\n",
    "\n",
    "actFinder = agama.ActionFinder(agama.Potential('data/MWPotential2014.ini'))"
   ]
  },
  {
   "cell_type": "markdown",
   "id": "c2ec1f56-c2f6-41b2-a9e5-a2ada3c50d12",
   "metadata": {},
   "source": [
    "def get_action(stream, prog, actFinder):\n",
    "    pos_prog = prog.pos.xyz.to('kpc').value\n",
    "    vel_prog = prog.vel.d_xyz.to('km/s').value\n",
    "    posvel_prog = np.r_[pos_prog.squeeze(),vel_prog.squeeze()]\n",
    "    action_prog = actFinder(posvel_prog)\n",
    "    Jphi_prog = action_prog[2]\n",
    "    Jr_prog = action_prog[0]\n",
    "    \n",
    "    pos = stream.pos.xyz.to('kpc').value\n",
    "    vel = stream.vel.d_xyz.to('km/s').value\n",
    "    posvel = np.column_stack((pos.T,vel.T))\n",
    "    actions = actFinder(posvel)\n",
    "    Jphi = actions[:,2]\n",
    "    Jr = actions[:,0]\n",
    "    \n",
    "    # DLtot = Ltot - Ltot_prog\n",
    "    DJphi = Jphi - Jphi_prog\n",
    "    DJr = Jr - Jr_prog\n",
    "    return DJphi, DJr\n",
    "    \n",
    "DJphi, DJr = get_action(stream_f15, prog_f15, actFinder)\n",
    "plt.scatter(DJphi, DJr, s=1, alpha=0.5, label='Fardal+15')\n",
    "\n",
    "DJphi, DJr = get_action(stream_c24, prog_c24, actFinder)\n",
    "plt.scatter(DJphi, DJr, s=1, alpha=0.5, label='Chen+24 no prog.')\n",
    "\n",
    "DJphi, DJr = get_action(stream_c24b, prog_c24b, actFinder)\n",
    "plt.scatter(DJphi, DJr, s=1, alpha=0.5, label='Chen+24 with prog.')\n",
    "\n",
    "plt.xlabel(r'$\\Delta J_\\phi\\ ({\\rm kpc\\,km/s})$')\n",
    "plt.ylabel(r'$\\Delta J_r\\ ({\\rm kpc\\,km/s})$')\n",
    "plt.xlim(-120, 120)\n",
    "plt.ylim(-100, 100)\n",
    "plt.legend(loc='lower right')\n",
    "plt.gca().set_aspect(1)\n",
    "plt.show()"
   ]
  },
  {
   "cell_type": "code",
   "execution_count": null,
   "id": "43ef7a2a-124f-4713-b42a-7df899779aeb",
   "metadata": {},
   "outputs": [],
   "source": []
  },
  {
   "cell_type": "code",
   "execution_count": null,
   "id": "e5a2d676-6541-4995-8282-03a9c7027926",
   "metadata": {},
   "outputs": [],
   "source": []
  }
 ],
 "metadata": {
  "kernelspec": {
   "display_name": "Python 3 (ipykernel)",
   "language": "python",
   "name": "python3"
  },
  "language_info": {
   "codemirror_mode": {
    "name": "ipython",
    "version": 3
   },
   "file_extension": ".py",
   "mimetype": "text/x-python",
   "name": "python",
   "nbconvert_exporter": "python",
   "pygments_lexer": "ipython3",
   "version": "3.12.4"
  }
 },
 "nbformat": 4,
 "nbformat_minor": 5
}
